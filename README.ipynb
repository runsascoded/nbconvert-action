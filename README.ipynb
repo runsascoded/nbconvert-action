{
 "cells": [
  {
   "cell_type": "markdown",
   "metadata": {},
   "source": [
    "# `nbconvert` GitHub Action\n",
    "Automatically convert `.ipynb` files in pull requests to Markdown (or other formats supported by [`nbconvert`]).\n",
    "\n",
    "Here's an example sequence of steps for checking out the repo and converting applicable notebooks, which can be placed in your project's `.github/workflows/main.yml`:\n",
    "\n",
    "```yaml\n",
    "steps:\n",
    "- name: Check out repository\n",
    "  uses: actions/checkout@v2\n",
    "  with:\n",
    "    ref: ${{ github.head_ref }}\n",
    "\n",
    "- name: nbconvert .ipynb's\n",
    "  uses: runsascoded/nbconvert@v1.2\n",
    "  with:\n",
    "    args: -f -x\n",
    "```\n",
    "\n",
    "This repo also [uses itself](.github/workflows/main.yml) to convert its own README from an `.ipynb` to an `.md`.\n",
    "\n",
    "By default, `.ipynb` files are converted to Markdown (`.md`):\n",
    "- check any existing `.ipynb`/`.md` pairs in the repo (or all `.ipynb`s, if `-a`/`--all` is set)\n",
    "- if the `.ipynb` has changed during the pull request (or `-f`/`--force` is set), the corresponding `.md` is (re)generated (using [`nbconvert`]; `-x`/`--execute` will cause the notebook to be executed as part of the conversion)\n",
    "- if any `.md` files are changed, a commit is created and pushed to the PR's branch\n",
    "\n",
    "Many of these behaviors are configurable; see [`convert.py`](convert.py) or `convert.py -h` below to view available options.\n",
    "\n",
    "[`nbconvert`]: https://nbconvert.readthedocs.io/en/latest/"
   ]
  },
  {
   "cell_type": "code",
   "execution_count": 1,
   "metadata": {},
   "outputs": [
    {
     "name": "stdout",
     "output_type": "stream",
     "text": [
      "usage: convert.py [-h] [--args ARGS] [-a] [-b BRANCH] [-e EMAIL] [-f] [-G]\n",
      "                  [-n NAME] [-o FMT] [-p REPOSITORY] [-r REMOTE] [-u UPSTREAM]\n",
      "                  [-t TOKEN] [-x]\n",
      "                  [path [path ...]]\n",
      "\n",
      "positional arguments:\n",
      "  path                  .ipynb paths to convert\n",
      "\n",
      "optional arguments:\n",
      "  -h, --help            show this help message and exit\n",
      "  --args ARGS           Additional arguments, passed as one bash-token string\n",
      "                        (e.g. \"-f -x\"). If the string being passed begins with\n",
      "                        a \"-\" character (as it typically will), then this\n",
      "                        argument should be expressed as one bash token like \"\n",
      "                        --args=-f -x\" (as opposed to two tokens: \"--args\", \"-f\n",
      "                        -x\"), so that argparse doesn't get confused. Useful\n",
      "                        for e.g. specifying arguments across multiple YAML\n",
      "                        files that lack the ability to concatenate lists.\n",
      "  -a, --all             Inspect all .ipynb files (by default, notebooks are\n",
      "                        only checked if they already have a counterpart in the\n",
      "                        target format checked in to the repo\n",
      "  -b BRANCH, --branch BRANCH\n",
      "                        Current Git branch (and push target for any changes;\n",
      "                        default: $GITHUB_HEAD_REF)\n",
      "  -e EMAIL, --email EMAIL\n",
      "                        user.email for Git commit\n",
      "  -f, --force           Run nbconvert on .ipynb files even if they don't seem\n",
      "                        changed since the base revision\n",
      "  -G, --no_git          When set, skip attempting to Git commit+push any\n",
      "                        changes\n",
      "  -n NAME, --name NAME  user.name for Git commit\n",
      "  -o FMT, --fmt FMT     Format to convert files to (passed to nbconvert;\n",
      "                        default: markdown)\n",
      "  -p REPOSITORY, --repository REPOSITORY\n",
      "                        Git repository (org/repo) to push to (default:\n",
      "                        $GITHUB_REPOSITORY)\n",
      "  -r REMOTE, --remote REMOTE\n",
      "                        Git remote to push changes to; defaults to the only\n",
      "                        git remote, where applicable\n",
      "  -u UPSTREAM, --upstream UPSTREAM\n",
      "                        Git revision (or range) to compute diffs against\n",
      "                        (default: <remote>/$GITHUB_BASE_REF, where <remote> is\n",
      "                        the --remote flag value or its fallback Git remote\n",
      "  -t TOKEN, --token TOKEN\n",
      "                        Git access token for pushing changes\n",
      "  -x, --execute         When set, execute notebooks while converting them (by\n",
      "                        passing --execute to nbconvert)\n"
     ]
    }
   ],
   "source": [
    "%%bash\n",
    "convert.py -h"
   ]
  }
 ],
 "metadata": {
  "kernelspec": {
   "display_name": "Python 3",
   "language": "python",
   "name": "python3"
  },
  "language_info": {
   "codemirror_mode": {
    "name": "ipython",
    "version": 3
   },
   "file_extension": ".py",
   "mimetype": "text/x-python",
   "name": "python",
   "nbconvert_exporter": "python",
   "pygments_lexer": "ipython3",
   "version": "3.8.6"
  }
 },
 "nbformat": 4,
 "nbformat_minor": 2
}
